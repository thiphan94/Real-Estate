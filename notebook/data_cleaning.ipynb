{
 "cells": [
  {
   "cell_type": "markdown",
   "id": "e8d97241",
   "metadata": {
    "papermill": {
     "duration": 0.100345,
     "end_time": "2022-05-24T15:04:18.989645",
     "exception": false,
     "start_time": "2022-05-24T15:04:18.889300",
     "status": "completed"
    },
    "tags": []
   },
   "source": [
    "# **Real Estate Price Prediction**\n"
   ]
  },
  {
   "cell_type": "markdown",
   "id": "d19ba16c",
   "metadata": {
    "papermill": {
     "duration": 0.096294,
     "end_time": "2022-05-24T15:04:19.184189",
     "exception": false,
     "start_time": "2022-05-24T15:04:19.087895",
     "status": "completed"
    },
    "tags": []
   },
   "source": [
    "# **Table of Contents**\n",
    "1. [Introduction](#1)\n",
    "1. [Import Libraries](#2)\n",
    "1. [Load and Split Data](#3)\n",
    "1. [Data Understanding](#4)\n",
    "1. [Data Preparation](#5)\n",
    "  * [Drop Outliers](#6)\n",
    "  * [Check Correlation](#7)\n",
    "  * [Preprocessing Data](#8)\n"
   ]
  },
  {
   "cell_type": "markdown",
   "id": "2d63cb07",
   "metadata": {
    "papermill": {
     "duration": 0.097311,
     "end_time": "2022-05-24T15:04:19.379685",
     "exception": false,
     "start_time": "2022-05-24T15:04:19.282374",
     "status": "completed"
    },
    "tags": []
   },
   "source": [
    "## - - - - - - - - - - - - - - - - - - - - - - - - - - - - - - - - - - - - - - - -"
   ]
  },
  {
   "cell_type": "markdown",
   "id": "88e6730e",
   "metadata": {
    "papermill": {
     "duration": 0.095867,
     "end_time": "2022-05-24T15:04:19.571713",
     "exception": false,
     "start_time": "2022-05-24T15:04:19.475846",
     "status": "completed"
    },
    "tags": []
   },
   "source": [
    "<a id=\"1\"></a> <br>\n",
    "# **1. Introduction**"
   ]
  },
  {
   "cell_type": "markdown",
   "id": "5dfa7947",
   "metadata": {
    "papermill": {
     "duration": 0.095459,
     "end_time": "2022-05-24T15:04:19.763221",
     "exception": false,
     "start_time": "2022-05-24T15:04:19.667762",
     "status": "completed"
    },
    "tags": []
   },
   "source": [
    "The dataset we'll be analyzing is the dataset which is scrapped from Immoweb.be in Belgium. It shows the information of each house and appartement to sale. This dataset has 52.077 rows and 20 columns.\n",
    "\n",
    "#### **Attributes:**\n",
    "The metadata of the columns:\n",
    "\n",
    "* \"locality\" - postal code of the house/appartement\n",
    "* \"type_of_property\" - the count of a new bike shares\n",
    "* \"subtype_of_property\" - real temperature in C\n",
    "* \"price\" - temperature in C \"feels like\"\n",
    "* \"type_of_sale\" - humidity in percentage\n",
    "* \"number_of_rooms\" - wind speed in km/h\n",
    "* \"house_area\" - category of the weather\n",
    "* \"fully_equipped_kitchen\" - boolean field - 1 holiday / 0 non holiday\n",
    "* \"open_fire\" - boolean field - 1 if the day is weekend\n",
    "* \"terrace\" - category field meteorological seasons: 0-spring ; 1-summer; 2-fall; 3-winter.\n",
    "* \"terrace_area\" - category\n",
    "* \"garden\" - category\n",
    "* \"garden_area\" - category\n",
    "* \"surface_of_the_land\" - category\n",
    "* \"surface_of_the_plot_of_land\" - category\n",
    "* \"number_of_facades\" - category\n",
    "* \"swimming_pool\" - category\n",
    "* \"state_of_the_building\" - category\n",
    "* \"construction_year\" - category\n",
    "\n",
    "But in this dataset, we don't have the information related longitude and lattitude of each city. So we use also the [zipcode data of Belgium](https://github.com/jief/zipcode-belgium/blob/master/zipcode-belgium.csv). "
   ]
  },
  {
   "cell_type": "markdown",
   "id": "48fdb944",
   "metadata": {
    "papermill": {
     "duration": 0.095502,
     "end_time": "2022-05-24T15:04:19.955232",
     "exception": false,
     "start_time": "2022-05-24T15:04:19.859730",
     "status": "completed"
    },
    "tags": []
   },
   "source": [
    "## - - - - - - - - - - - - - - - - - - - - - - - - - - - - - - - - - - - - - - - -"
   ]
  },
  {
   "cell_type": "markdown",
   "id": "73c19f2f",
   "metadata": {
    "papermill": {
     "duration": 0.09578,
     "end_time": "2022-05-24T15:04:20.150888",
     "exception": false,
     "start_time": "2022-05-24T15:04:20.055108",
     "status": "completed"
    },
    "tags": []
   },
   "source": [
    "<a id=\"2\"></a> <br>\n",
    "# **2. Imports**"
   ]
  },
  {
   "cell_type": "code",
   "execution_count": null,
   "id": "cc2a5fc4",
   "metadata": {
    "_cell_guid": "b1076dfc-b9ad-4769-8c92-a6c4dae69d19",
    "_uuid": "8f2839f25d086af736a60e9eeb907d3b93b6e0e5",
    "execution": {
     "iopub.execute_input": "2022-05-24T15:04:20.350873Z",
     "iopub.status.busy": "2022-05-24T15:04:20.350352Z",
     "iopub.status.idle": "2022-05-24T15:04:22.106882Z",
     "shell.execute_reply": "2022-05-24T15:04:22.105708Z"
    },
    "papermill": {
     "duration": 1.861915,
     "end_time": "2022-05-24T15:04:22.109821",
     "exception": false,
     "start_time": "2022-05-24T15:04:20.247906",
     "status": "completed"
    },
    "tags": []
   },
   "outputs": [],
   "source": [
    "# Load data libraries\n",
    "import numpy as np  # linear algebra\n",
    "import pandas as pd  # data processing, CSV file I/O\n",
    "from sklearn.model_selection import train_test_split\n",
    "\n",
    "# For visualizations\n",
    "import matplotlib.pyplot as plt\n",
    "import seaborn as sns\n",
    "\n",
    "%matplotlib inline\n",
    "\n",
    "# Data preparation\n",
    "from sklearn.preprocessing import RobustScaler, StandardScaler\n",
    "from datetime import datetime\n",
    "import math"
   ]
  },
  {
   "cell_type": "markdown",
   "id": "2e743571",
   "metadata": {
    "papermill": {
     "duration": 0.097632,
     "end_time": "2022-05-24T15:04:22.304925",
     "exception": false,
     "start_time": "2022-05-24T15:04:22.207293",
     "status": "completed"
    },
    "tags": []
   },
   "source": [
    "## - - - - - - - - - - - - - - - - - - - - - - - - - - - - - - - - - - - - - - - -"
   ]
  },
  {
   "cell_type": "markdown",
   "id": "cae35d50",
   "metadata": {
    "papermill": {
     "duration": 0.095993,
     "end_time": "2022-05-24T15:04:22.498157",
     "exception": false,
     "start_time": "2022-05-24T15:04:22.402164",
     "status": "completed"
    },
    "tags": []
   },
   "source": [
    "<a id=\"3\"></a> <br>\n",
    "# **3. Load and Split the Data**"
   ]
  },
  {
   "cell_type": "code",
   "execution_count": null,
   "id": "d3cbc7f7",
   "metadata": {
    "execution": {
     "iopub.execute_input": "2022-05-24T15:04:22.693674Z",
     "iopub.status.busy": "2022-05-24T15:04:22.693362Z",
     "iopub.status.idle": "2022-05-24T15:04:22.737443Z",
     "shell.execute_reply": "2022-05-24T15:04:22.736852Z"
    },
    "papermill": {
     "duration": 0.144047,
     "end_time": "2022-05-24T15:04:22.739648",
     "exception": false,
     "start_time": "2022-05-24T15:04:22.595601",
     "status": "completed"
    },
    "tags": []
   },
   "outputs": [],
   "source": [
    "# First, let's load the data\n",
    "df = pd.read_csv(\"../data/dataset_house_apartment.csv\")\n",
    "\n",
    "df.head()"
   ]
  },
  {
   "cell_type": "code",
   "execution_count": null,
   "id": "365ad163",
   "metadata": {},
   "outputs": [],
   "source": [
    "df.shape"
   ]
  },
  {
   "cell_type": "code",
   "execution_count": null,
   "id": "534ae8b0",
   "metadata": {},
   "outputs": [],
   "source": [
    "# Load zipcode data of Belgium\n",
    "zipcode = pd.read_csv(\"../data/code-postaux-belge.csv\")"
   ]
  },
  {
   "cell_type": "code",
   "execution_count": null,
   "id": "36055f92",
   "metadata": {},
   "outputs": [],
   "source": [
    "# Drop empty columns\n",
    "zipcode.drop(columns=[\"coordonnees\", \"geom\"], inplace=True)\n",
    "\n",
    "# Rename the columns\n",
    "zipcode.rename(\n",
    "    columns={\n",
    "        \"column_1\": \"locality\",\n",
    "        \"column_2\": \"city_name\",\n",
    "        \"column_3\": \"lattitude\",\n",
    "        \"column_4\": \"longitude\",\n",
    "    },\n",
    "    inplace=True,\n",
    ")\n",
    "\n",
    "# Drop the localities' duplicates\n",
    "zipcode.drop_duplicates(subset=[\"locality\"], inplace=True)"
   ]
  },
  {
   "cell_type": "code",
   "execution_count": null,
   "id": "58936e06",
   "metadata": {},
   "outputs": [],
   "source": [
    "zipcode.shape"
   ]
  },
  {
   "cell_type": "markdown",
   "id": "b8ae4556",
   "metadata": {},
   "source": [
    "Merge real estate data and zipcode data"
   ]
  },
  {
   "cell_type": "code",
   "execution_count": null,
   "id": "e110da98",
   "metadata": {},
   "outputs": [],
   "source": [
    "dfinal = pd.merge(df, zipcode, on=[\"locality\"], how=\"inner\")"
   ]
  },
  {
   "cell_type": "code",
   "execution_count": null,
   "id": "3e32f618",
   "metadata": {},
   "outputs": [],
   "source": [
    "dfinal.shape"
   ]
  },
  {
   "cell_type": "code",
   "execution_count": null,
   "id": "f79dd172",
   "metadata": {},
   "outputs": [],
   "source": [
    "dfinal.head(5)"
   ]
  },
  {
   "cell_type": "markdown",
   "id": "4f5dec45",
   "metadata": {
    "papermill": {
     "duration": 0.097721,
     "end_time": "2022-05-24T15:04:23.574033",
     "exception": false,
     "start_time": "2022-05-24T15:04:23.476312",
     "status": "completed"
    },
    "tags": []
   },
   "source": [
    "## - - - - - - - - - - - - - - - - - - - - - - - - - - - - - - - - - - - - - - - -"
   ]
  },
  {
   "cell_type": "markdown",
   "id": "dcc52757",
   "metadata": {
    "papermill": {
     "duration": 0.097527,
     "end_time": "2022-05-24T15:04:23.770422",
     "exception": false,
     "start_time": "2022-05-24T15:04:23.672895",
     "status": "completed"
    },
    "tags": []
   },
   "source": [
    "<a id=\"4\"></a> <br>\n",
    "# **4. Data Understanding**"
   ]
  },
  {
   "cell_type": "code",
   "execution_count": null,
   "id": "c3b8d551",
   "metadata": {
    "execution": {
     "iopub.execute_input": "2022-05-24T15:04:24.188294Z",
     "iopub.status.busy": "2022-05-24T15:04:24.187796Z",
     "iopub.status.idle": "2022-05-24T15:04:24.207187Z",
     "shell.execute_reply": "2022-05-24T15:04:24.206534Z"
    },
    "papermill": {
     "duration": 0.124942,
     "end_time": "2022-05-24T15:04:24.210106",
     "exception": false,
     "start_time": "2022-05-24T15:04:24.085164",
     "status": "completed"
    },
    "tags": []
   },
   "outputs": [],
   "source": [
    "dfinal.info()"
   ]
  },
  {
   "cell_type": "markdown",
   "id": "25795050",
   "metadata": {},
   "source": [
    "Check number of duplicated rows in data and drop these rows"
   ]
  },
  {
   "cell_type": "code",
   "execution_count": null,
   "id": "f5881be0",
   "metadata": {},
   "outputs": [],
   "source": [
    "dfinal.duplicated().sum()"
   ]
  },
  {
   "cell_type": "code",
   "execution_count": null,
   "id": "5c48491e",
   "metadata": {},
   "outputs": [],
   "source": [
    "dfinal.drop_duplicates(inplace=True)"
   ]
  },
  {
   "cell_type": "code",
   "execution_count": null,
   "id": "0f24feb4",
   "metadata": {},
   "outputs": [],
   "source": [
    "# rename columns name 'locality' to 'postal_code'\n",
    "\n",
    "dfinal.rename(columns={\"locality\": \"postal_code\"}, inplace=True)"
   ]
  },
  {
   "cell_type": "code",
   "execution_count": null,
   "id": "7b9320f7",
   "metadata": {},
   "outputs": [],
   "source": [
    "# Drop columns with only 1 unique value\n",
    "dfinal.drop(\n",
    "    columns=[\"type_of_sale\", \"furnished\", \"surface_of_the_plot_of_land\"], inplace=True\n",
    ")\n",
    "dfinal.shape"
   ]
  },
  {
   "cell_type": "code",
   "execution_count": null,
   "id": "b0f22386",
   "metadata": {
    "execution": {
     "iopub.execute_input": "2022-05-24T15:04:24.615243Z",
     "iopub.status.busy": "2022-05-24T15:04:24.614700Z",
     "iopub.status.idle": "2022-05-24T15:04:24.649247Z",
     "shell.execute_reply": "2022-05-24T15:04:24.648545Z"
    },
    "papermill": {
     "duration": 0.137835,
     "end_time": "2022-05-24T15:04:24.651285",
     "exception": false,
     "start_time": "2022-05-24T15:04:24.513450",
     "status": "completed"
    },
    "tags": []
   },
   "outputs": [],
   "source": [
    "dfinal.describe()"
   ]
  },
  {
   "cell_type": "markdown",
   "id": "c892f3f0",
   "metadata": {},
   "source": [
    "Check misisng values in data"
   ]
  },
  {
   "cell_type": "code",
   "execution_count": null,
   "id": "ea7606b7",
   "metadata": {},
   "outputs": [],
   "source": [
    "dfinal.isnull().sum()"
   ]
  },
  {
   "cell_type": "code",
   "execution_count": null,
   "id": "44646fae",
   "metadata": {},
   "outputs": [],
   "source": [
    "total_missing = dfinal.isna().sum() * 100 / len(df)\n",
    "print(\"Percentage Missing Value %\")\n",
    "total_missing"
   ]
  },
  {
   "cell_type": "markdown",
   "id": "6ba4bcdc",
   "metadata": {},
   "source": [
    "total_missing = dfinal.isna().sum()*100/len(df)\n",
    "print('Percentage Missing Value %')\n",
    "total_missing"
   ]
  },
  {
   "cell_type": "markdown",
   "id": "47fe453a",
   "metadata": {},
   "source": [
    "We have so 51532 instances with 23 different variables to work on."
   ]
  }
 ],
 "metadata": {
  "kernelspec": {
   "display_name": "Python 3",
   "language": "python",
   "name": "python3"
  },
  "language_info": {
   "codemirror_mode": {
    "name": "ipython",
    "version": 3
   },
   "file_extension": ".py",
   "mimetype": "text/x-python",
   "name": "python",
   "nbconvert_exporter": "python",
   "pygments_lexer": "ipython3",
   "version": "3.11.5"
  },
  "papermill": {
   "default_parameters": {},
   "duration": 61.022919,
   "end_time": "2022-05-24T15:05:09.573920",
   "environment_variables": {},
   "exception": null,
   "input_path": "__notebook__.ipynb",
   "output_path": "__notebook__.ipynb",
   "parameters": {},
   "start_time": "2022-05-24T15:04:08.551001",
   "version": "2.3.4"
  }
 },
 "nbformat": 4,
 "nbformat_minor": 5
}
