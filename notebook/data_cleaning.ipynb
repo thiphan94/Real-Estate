{
 "cells": [
  {
   "cell_type": "markdown",
   "id": "e8d97241",
   "metadata": {
    "papermill": {
     "duration": 0.100345,
     "end_time": "2022-05-24T15:04:18.989645",
     "exception": false,
     "start_time": "2022-05-24T15:04:18.889300",
     "status": "completed"
    },
    "tags": []
   },
   "source": [
    "# **Real Estate Price Prediction**\n"
   ]
  },
  {
   "cell_type": "markdown",
   "id": "d19ba16c",
   "metadata": {
    "papermill": {
     "duration": 0.096294,
     "end_time": "2022-05-24T15:04:19.184189",
     "exception": false,
     "start_time": "2022-05-24T15:04:19.087895",
     "status": "completed"
    },
    "tags": []
   },
   "source": [
    "# **Table of Contents**\n",
    "1. [Introduction](#1)\n",
    "1. [Import Libraries](#2)\n",
    "1. [Load and Split Data](#3)\n",
    "1. [Data Understanding](#4)\n",
    "1. [Data Preparation](#5)\n",
    "  * [Drop Outliers](#6)\n",
    "  * [Check Correlation](#7)\n",
    "  * [Preprocessing Data](#8)\n"
   ]
  },
  {
   "cell_type": "markdown",
   "id": "2d63cb07",
   "metadata": {
    "papermill": {
     "duration": 0.097311,
     "end_time": "2022-05-24T15:04:19.379685",
     "exception": false,
     "start_time": "2022-05-24T15:04:19.282374",
     "status": "completed"
    },
    "tags": []
   },
   "source": [
    "## - - - - - - - - - - - - - - - - - - - - - - - - - - - - - - - - - - - - - - - -"
   ]
  },
  {
   "cell_type": "markdown",
   "id": "88e6730e",
   "metadata": {
    "papermill": {
     "duration": 0.095867,
     "end_time": "2022-05-24T15:04:19.571713",
     "exception": false,
     "start_time": "2022-05-24T15:04:19.475846",
     "status": "completed"
    },
    "tags": []
   },
   "source": [
    "<a id=\"1\"></a> <br>\n",
    "# **1. Introduction**"
   ]
  },
  {
   "cell_type": "markdown",
   "id": "5dfa7947",
   "metadata": {
    "papermill": {
     "duration": 0.095459,
     "end_time": "2022-05-24T15:04:19.763221",
     "exception": false,
     "start_time": "2022-05-24T15:04:19.667762",
     "status": "completed"
    },
    "tags": []
   },
   "source": [
    "The dataset we'll be analyzing is the dataset which is scrapped from Immoweb.be in Belgium. It shows the information of each house and appartement to sale. This dataset has 52.077 rows and 20 columns.\n",
    "\n",
    "#### **Attributes:**\n",
    "The metadata of the columns:\n",
    "\n",
    "* \"locality\" - postal code of the house/appartement\n",
    "* \"type_of_property\" - the count of a new bike shares\n",
    "* \"subtype_of_property\" - real temperature in C\n",
    "* \"price\" - temperature in C \"feels like\"\n",
    "* \"type_of_sale\" - humidity in percentage\n",
    "* \"number_of_rooms\" - wind speed in km/h\n",
    "* \"house_area\" - category of the weather\n",
    "* \"fully_equipped_kitchen\" - boolean field - 1 holiday / 0 non holiday\n",
    "* \"open_fire\" - boolean field - 1 if the day is weekend\n",
    "* \"terrace\" - category field meteorological seasons: 0-spring ; 1-summer; 2-fall; 3-winter.\n",
    "* \"terrace_area\" - category\n",
    "* \"garden\" - category\n",
    "* \"garden_area\" - category\n",
    "* \"surface_of_the_land\" - category\n",
    "* \"surface_of_the_plot_of_land\" - category\n",
    "* \"number_of_facades\" - category\n",
    "* \"swimming_pool\" - category\n",
    "* \"state_of_the_building\" - category\n",
    "* \"construction_year\" - category\n",
    "\n",
    "But in this dataset, we don't have the information related longitude and lattitude of each city. So we use also the [zipcode data of Belgium](https://github.com/jief/zipcode-belgium/blob/master/zipcode-belgium.csv). "
   ]
  },
  {
   "cell_type": "markdown",
   "id": "48fdb944",
   "metadata": {
    "papermill": {
     "duration": 0.095502,
     "end_time": "2022-05-24T15:04:19.955232",
     "exception": false,
     "start_time": "2022-05-24T15:04:19.859730",
     "status": "completed"
    },
    "tags": []
   },
   "source": [
    "## - - - - - - - - - - - - - - - - - - - - - - - - - - - - - - - - - - - - - - - -"
   ]
  },
  {
   "cell_type": "markdown",
   "id": "73c19f2f",
   "metadata": {
    "papermill": {
     "duration": 0.09578,
     "end_time": "2022-05-24T15:04:20.150888",
     "exception": false,
     "start_time": "2022-05-24T15:04:20.055108",
     "status": "completed"
    },
    "tags": []
   },
   "source": [
    "<a id=\"2\"></a> <br>\n",
    "# **2. Imports**"
   ]
  },
  {
   "cell_type": "code",
   "execution_count": 1,
   "id": "cc2a5fc4",
   "metadata": {
    "_cell_guid": "b1076dfc-b9ad-4769-8c92-a6c4dae69d19",
    "_uuid": "8f2839f25d086af736a60e9eeb907d3b93b6e0e5",
    "execution": {
     "iopub.execute_input": "2022-05-24T15:04:20.350873Z",
     "iopub.status.busy": "2022-05-24T15:04:20.350352Z",
     "iopub.status.idle": "2022-05-24T15:04:22.106882Z",
     "shell.execute_reply": "2022-05-24T15:04:22.105708Z"
    },
    "papermill": {
     "duration": 1.861915,
     "end_time": "2022-05-24T15:04:22.109821",
     "exception": false,
     "start_time": "2022-05-24T15:04:20.247906",
     "status": "completed"
    },
    "tags": []
   },
   "outputs": [],
   "source": [
    "# Load data libraries\n",
    "import numpy as np  # linear algebra\n",
    "import pandas as pd  # data processing, CSV file I/O\n",
    "from sklearn.model_selection import train_test_split\n",
    "\n",
    "# For visualizations\n",
    "import matplotlib.pyplot as plt\n",
    "import seaborn as sns\n",
    "\n",
    "%matplotlib inline\n",
    "\n",
    "# Data preparation\n",
    "from sklearn.preprocessing import RobustScaler, StandardScaler\n",
    "from datetime import datetime\n",
    "import math"
   ]
  },
  {
   "cell_type": "markdown",
   "id": "2e743571",
   "metadata": {
    "papermill": {
     "duration": 0.097632,
     "end_time": "2022-05-24T15:04:22.304925",
     "exception": false,
     "start_time": "2022-05-24T15:04:22.207293",
     "status": "completed"
    },
    "tags": []
   },
   "source": [
    "## - - - - - - - - - - - - - - - - - - - - - - - - - - - - - - - - - - - - - - - -"
   ]
  },
  {
   "cell_type": "markdown",
   "id": "cae35d50",
   "metadata": {
    "papermill": {
     "duration": 0.095993,
     "end_time": "2022-05-24T15:04:22.498157",
     "exception": false,
     "start_time": "2022-05-24T15:04:22.402164",
     "status": "completed"
    },
    "tags": []
   },
   "source": [
    "<a id=\"3\"></a> <br>\n",
    "# **3. Load and Split the Data**"
   ]
  },
  {
   "cell_type": "code",
   "execution_count": 2,
   "id": "d3cbc7f7",
   "metadata": {
    "execution": {
     "iopub.execute_input": "2022-05-24T15:04:22.693674Z",
     "iopub.status.busy": "2022-05-24T15:04:22.693362Z",
     "iopub.status.idle": "2022-05-24T15:04:22.737443Z",
     "shell.execute_reply": "2022-05-24T15:04:22.736852Z"
    },
    "papermill": {
     "duration": 0.144047,
     "end_time": "2022-05-24T15:04:22.739648",
     "exception": false,
     "start_time": "2022-05-24T15:04:22.595601",
     "status": "completed"
    },
    "tags": []
   },
   "outputs": [
    {
     "data": {
      "text/html": [
       "<div>\n",
       "<style scoped>\n",
       "    .dataframe tbody tr th:only-of-type {\n",
       "        vertical-align: middle;\n",
       "    }\n",
       "\n",
       "    .dataframe tbody tr th {\n",
       "        vertical-align: top;\n",
       "    }\n",
       "\n",
       "    .dataframe thead th {\n",
       "        text-align: right;\n",
       "    }\n",
       "</style>\n",
       "<table border=\"1\" class=\"dataframe\">\n",
       "  <thead>\n",
       "    <tr style=\"text-align: right;\">\n",
       "      <th></th>\n",
       "      <th>locality</th>\n",
       "      <th>type_of_property</th>\n",
       "      <th>subtype_of_property</th>\n",
       "      <th>price</th>\n",
       "      <th>type_of_sale</th>\n",
       "      <th>number_of_rooms</th>\n",
       "      <th>house_area</th>\n",
       "      <th>fully_equipped_kitchen</th>\n",
       "      <th>furnished</th>\n",
       "      <th>open_fire</th>\n",
       "      <th>terrace</th>\n",
       "      <th>terrace_area</th>\n",
       "      <th>garden</th>\n",
       "      <th>garden_area</th>\n",
       "      <th>surface_of_the_land</th>\n",
       "      <th>surface_of_the_plot_of_land</th>\n",
       "      <th>number_of_facades</th>\n",
       "      <th>swimming_pool</th>\n",
       "      <th>state_of_the_building</th>\n",
       "      <th>construction_year</th>\n",
       "    </tr>\n",
       "  </thead>\n",
       "  <tbody>\n",
       "    <tr>\n",
       "      <th>0</th>\n",
       "      <td>1050</td>\n",
       "      <td>house</td>\n",
       "      <td>house</td>\n",
       "      <td>340000</td>\n",
       "      <td>for sale</td>\n",
       "      <td>6.0</td>\n",
       "      <td>203.0</td>\n",
       "      <td>1</td>\n",
       "      <td>NaN</td>\n",
       "      <td>0</td>\n",
       "      <td>1</td>\n",
       "      <td>NaN</td>\n",
       "      <td>0</td>\n",
       "      <td>NaN</td>\n",
       "      <td>95.0</td>\n",
       "      <td>NaN</td>\n",
       "      <td>2.0</td>\n",
       "      <td>0</td>\n",
       "      <td>to be done up</td>\n",
       "      <td>1901.0</td>\n",
       "    </tr>\n",
       "    <tr>\n",
       "      <th>1</th>\n",
       "      <td>1880</td>\n",
       "      <td>house</td>\n",
       "      <td>villa</td>\n",
       "      <td>525000</td>\n",
       "      <td>for sale</td>\n",
       "      <td>6.0</td>\n",
       "      <td>250.0</td>\n",
       "      <td>1</td>\n",
       "      <td>NaN</td>\n",
       "      <td>0</td>\n",
       "      <td>1</td>\n",
       "      <td>40.0</td>\n",
       "      <td>1</td>\n",
       "      <td>430.0</td>\n",
       "      <td>826.0</td>\n",
       "      <td>NaN</td>\n",
       "      <td>4.0</td>\n",
       "      <td>0</td>\n",
       "      <td>as new</td>\n",
       "      <td>1992.0</td>\n",
       "    </tr>\n",
       "    <tr>\n",
       "      <th>2</th>\n",
       "      <td>4900</td>\n",
       "      <td>house</td>\n",
       "      <td>exceptional property</td>\n",
       "      <td>550000</td>\n",
       "      <td>for sale</td>\n",
       "      <td>11.0</td>\n",
       "      <td>475.0</td>\n",
       "      <td>1</td>\n",
       "      <td>NaN</td>\n",
       "      <td>0</td>\n",
       "      <td>1</td>\n",
       "      <td>NaN</td>\n",
       "      <td>1</td>\n",
       "      <td>1400.0</td>\n",
       "      <td>1543.0</td>\n",
       "      <td>NaN</td>\n",
       "      <td>4.0</td>\n",
       "      <td>0</td>\n",
       "      <td>good</td>\n",
       "      <td>1853.0</td>\n",
       "    </tr>\n",
       "    <tr>\n",
       "      <th>3</th>\n",
       "      <td>7912</td>\n",
       "      <td>house</td>\n",
       "      <td>villa</td>\n",
       "      <td>550000</td>\n",
       "      <td>for sale</td>\n",
       "      <td>4.0</td>\n",
       "      <td>325.0</td>\n",
       "      <td>1</td>\n",
       "      <td>NaN</td>\n",
       "      <td>0</td>\n",
       "      <td>1</td>\n",
       "      <td>125.0</td>\n",
       "      <td>1</td>\n",
       "      <td>2333.0</td>\n",
       "      <td>3570.0</td>\n",
       "      <td>NaN</td>\n",
       "      <td>4.0</td>\n",
       "      <td>0</td>\n",
       "      <td>good</td>\n",
       "      <td>1918.0</td>\n",
       "    </tr>\n",
       "    <tr>\n",
       "      <th>4</th>\n",
       "      <td>6032</td>\n",
       "      <td>house</td>\n",
       "      <td>house</td>\n",
       "      <td>550000</td>\n",
       "      <td>for sale</td>\n",
       "      <td>5.0</td>\n",
       "      <td>400.0</td>\n",
       "      <td>1</td>\n",
       "      <td>NaN</td>\n",
       "      <td>0</td>\n",
       "      <td>1</td>\n",
       "      <td>80.0</td>\n",
       "      <td>1</td>\n",
       "      <td>500.0</td>\n",
       "      <td>616.0</td>\n",
       "      <td>NaN</td>\n",
       "      <td>3.0</td>\n",
       "      <td>0</td>\n",
       "      <td>as new</td>\n",
       "      <td>1977.0</td>\n",
       "    </tr>\n",
       "  </tbody>\n",
       "</table>\n",
       "</div>"
      ],
      "text/plain": [
       "   locality type_of_property   subtype_of_property   price type_of_sale  \\\n",
       "0      1050            house                 house  340000     for sale   \n",
       "1      1880            house                 villa  525000     for sale   \n",
       "2      4900            house  exceptional property  550000     for sale   \n",
       "3      7912            house                 villa  550000     for sale   \n",
       "4      6032            house                 house  550000     for sale   \n",
       "\n",
       "   number_of_rooms  house_area  fully_equipped_kitchen  furnished  open_fire  \\\n",
       "0              6.0       203.0                       1        NaN          0   \n",
       "1              6.0       250.0                       1        NaN          0   \n",
       "2             11.0       475.0                       1        NaN          0   \n",
       "3              4.0       325.0                       1        NaN          0   \n",
       "4              5.0       400.0                       1        NaN          0   \n",
       "\n",
       "   terrace  terrace_area  garden  garden_area  surface_of_the_land  \\\n",
       "0        1           NaN       0          NaN                 95.0   \n",
       "1        1          40.0       1        430.0                826.0   \n",
       "2        1           NaN       1       1400.0               1543.0   \n",
       "3        1         125.0       1       2333.0               3570.0   \n",
       "4        1          80.0       1        500.0                616.0   \n",
       "\n",
       "   surface_of_the_plot_of_land  number_of_facades  swimming_pool  \\\n",
       "0                          NaN                2.0              0   \n",
       "1                          NaN                4.0              0   \n",
       "2                          NaN                4.0              0   \n",
       "3                          NaN                4.0              0   \n",
       "4                          NaN                3.0              0   \n",
       "\n",
       "  state_of_the_building  construction_year  \n",
       "0         to be done up             1901.0  \n",
       "1                as new             1992.0  \n",
       "2                  good             1853.0  \n",
       "3                  good             1918.0  \n",
       "4                as new             1977.0  "
      ]
     },
     "execution_count": 2,
     "metadata": {},
     "output_type": "execute_result"
    }
   ],
   "source": [
    "# First, let's load the data\n",
    "df = pd.read_csv(\"../data/dataset_house_apartment.csv\")\n",
    "\n",
    "df.head()"
   ]
  },
  {
   "cell_type": "code",
   "execution_count": 3,
   "id": "365ad163",
   "metadata": {},
   "outputs": [
    {
     "data": {
      "text/plain": [
       "(52077, 20)"
      ]
     },
     "execution_count": 3,
     "metadata": {},
     "output_type": "execute_result"
    }
   ],
   "source": [
    "df.shape"
   ]
  },
  {
   "cell_type": "code",
   "execution_count": 7,
   "id": "534ae8b0",
   "metadata": {},
   "outputs": [],
   "source": [
    "# Load zipcode data of Belgium\n",
    "zipcode = pd.read_csv(\"../data/code-postaux-belge.csv\", sep=\";\")"
   ]
  },
  {
   "cell_type": "code",
   "execution_count": 8,
   "id": "334ab4d5",
   "metadata": {},
   "outputs": [
    {
     "data": {
      "text/html": [
       "<div>\n",
       "<style scoped>\n",
       "    .dataframe tbody tr th:only-of-type {\n",
       "        vertical-align: middle;\n",
       "    }\n",
       "\n",
       "    .dataframe tbody tr th {\n",
       "        vertical-align: top;\n",
       "    }\n",
       "\n",
       "    .dataframe thead th {\n",
       "        text-align: right;\n",
       "    }\n",
       "</style>\n",
       "<table border=\"1\" class=\"dataframe\">\n",
       "  <thead>\n",
       "    <tr style=\"text-align: right;\">\n",
       "      <th></th>\n",
       "      <th>column_1</th>\n",
       "      <th>column_2</th>\n",
       "      <th>column_3</th>\n",
       "      <th>column_4</th>\n",
       "      <th>coordonnees</th>\n",
       "      <th>geom</th>\n",
       "    </tr>\n",
       "  </thead>\n",
       "  <tbody>\n",
       "    <tr>\n",
       "      <th>0</th>\n",
       "      <td>1060</td>\n",
       "      <td>Saint-Gilles</td>\n",
       "      <td>4.345668</td>\n",
       "      <td>50.826741</td>\n",
       "      <td>50.8267409, 4.345668</td>\n",
       "      <td>NaN</td>\n",
       "    </tr>\n",
       "    <tr>\n",
       "      <th>1</th>\n",
       "      <td>1080</td>\n",
       "      <td>Molenbeek-Saint-Jean</td>\n",
       "      <td>4.322778</td>\n",
       "      <td>50.854355</td>\n",
       "      <td>50.8543551, 4.3227779</td>\n",
       "      <td>NaN</td>\n",
       "    </tr>\n",
       "    <tr>\n",
       "      <th>2</th>\n",
       "      <td>1083</td>\n",
       "      <td>Ganshoren</td>\n",
       "      <td>4.317510</td>\n",
       "      <td>50.871240</td>\n",
       "      <td>50.8712396, 4.3175103</td>\n",
       "      <td>NaN</td>\n",
       "    </tr>\n",
       "    <tr>\n",
       "      <th>3</th>\n",
       "      <td>1120</td>\n",
       "      <td>Neder-Over-Heembeek</td>\n",
       "      <td>4.390489</td>\n",
       "      <td>50.897796</td>\n",
       "      <td>50.89779605, 4.39048886842</td>\n",
       "      <td>NaN</td>\n",
       "    </tr>\n",
       "    <tr>\n",
       "      <th>4</th>\n",
       "      <td>1300</td>\n",
       "      <td>Wavre</td>\n",
       "      <td>4.607744</td>\n",
       "      <td>50.716419</td>\n",
       "      <td>50.7164189, 4.607744</td>\n",
       "      <td>NaN</td>\n",
       "    </tr>\n",
       "  </tbody>\n",
       "</table>\n",
       "</div>"
      ],
      "text/plain": [
       "   column_1              column_2  column_3   column_4  \\\n",
       "0      1060          Saint-Gilles  4.345668  50.826741   \n",
       "1      1080  Molenbeek-Saint-Jean  4.322778  50.854355   \n",
       "2      1083             Ganshoren  4.317510  50.871240   \n",
       "3      1120   Neder-Over-Heembeek  4.390489  50.897796   \n",
       "4      1300                 Wavre  4.607744  50.716419   \n",
       "\n",
       "                  coordonnees  geom  \n",
       "0        50.8267409, 4.345668   NaN  \n",
       "1       50.8543551, 4.3227779   NaN  \n",
       "2       50.8712396, 4.3175103   NaN  \n",
       "3  50.89779605, 4.39048886842   NaN  \n",
       "4        50.7164189, 4.607744   NaN  "
      ]
     },
     "execution_count": 8,
     "metadata": {},
     "output_type": "execute_result"
    }
   ],
   "source": [
    "zipcode.head()"
   ]
  },
  {
   "cell_type": "code",
   "execution_count": 9,
   "id": "36055f92",
   "metadata": {},
   "outputs": [],
   "source": [
    "# Drop empty columns\n",
    "zipcode.drop(columns=[\"coordonnees\", \"geom\"], inplace=True)\n",
    "\n",
    "# Rename the columns\n",
    "zipcode.rename(\n",
    "    columns={\n",
    "        \"column_1\": \"locality\",\n",
    "        \"column_2\": \"city_name\",\n",
    "        \"column_3\": \"lattitude\",\n",
    "        \"column_4\": \"longitude\",\n",
    "    },\n",
    "    inplace=True,\n",
    ")\n",
    "\n",
    "# Drop the localities' duplicates\n",
    "zipcode.drop_duplicates(subset=[\"locality\"], inplace=True)"
   ]
  },
  {
   "cell_type": "code",
   "execution_count": 10,
   "id": "58936e06",
   "metadata": {},
   "outputs": [
    {
     "data": {
      "text/plain": [
       "(1145, 4)"
      ]
     },
     "execution_count": 10,
     "metadata": {},
     "output_type": "execute_result"
    }
   ],
   "source": [
    "zipcode.shape"
   ]
  },
  {
   "cell_type": "markdown",
   "id": "b8ae4556",
   "metadata": {},
   "source": [
    "Merge real estate data and zipcode data"
   ]
  },
  {
   "cell_type": "code",
   "execution_count": 11,
   "id": "e110da98",
   "metadata": {},
   "outputs": [],
   "source": [
    "dfinal = pd.merge(df, zipcode, on=[\"locality\"], how=\"inner\")"
   ]
  },
  {
   "cell_type": "code",
   "execution_count": 12,
   "id": "3e32f618",
   "metadata": {},
   "outputs": [
    {
     "data": {
      "text/plain": [
       "(52076, 23)"
      ]
     },
     "execution_count": 12,
     "metadata": {},
     "output_type": "execute_result"
    }
   ],
   "source": [
    "dfinal.shape"
   ]
  },
  {
   "cell_type": "code",
   "execution_count": 13,
   "id": "f79dd172",
   "metadata": {},
   "outputs": [
    {
     "data": {
      "text/html": [
       "<div>\n",
       "<style scoped>\n",
       "    .dataframe tbody tr th:only-of-type {\n",
       "        vertical-align: middle;\n",
       "    }\n",
       "\n",
       "    .dataframe tbody tr th {\n",
       "        vertical-align: top;\n",
       "    }\n",
       "\n",
       "    .dataframe thead th {\n",
       "        text-align: right;\n",
       "    }\n",
       "</style>\n",
       "<table border=\"1\" class=\"dataframe\">\n",
       "  <thead>\n",
       "    <tr style=\"text-align: right;\">\n",
       "      <th></th>\n",
       "      <th>locality</th>\n",
       "      <th>type_of_property</th>\n",
       "      <th>subtype_of_property</th>\n",
       "      <th>price</th>\n",
       "      <th>type_of_sale</th>\n",
       "      <th>number_of_rooms</th>\n",
       "      <th>house_area</th>\n",
       "      <th>fully_equipped_kitchen</th>\n",
       "      <th>furnished</th>\n",
       "      <th>open_fire</th>\n",
       "      <th>...</th>\n",
       "      <th>garden_area</th>\n",
       "      <th>surface_of_the_land</th>\n",
       "      <th>surface_of_the_plot_of_land</th>\n",
       "      <th>number_of_facades</th>\n",
       "      <th>swimming_pool</th>\n",
       "      <th>state_of_the_building</th>\n",
       "      <th>construction_year</th>\n",
       "      <th>city_name</th>\n",
       "      <th>lattitude</th>\n",
       "      <th>longitude</th>\n",
       "    </tr>\n",
       "  </thead>\n",
       "  <tbody>\n",
       "    <tr>\n",
       "      <th>0</th>\n",
       "      <td>1050</td>\n",
       "      <td>house</td>\n",
       "      <td>house</td>\n",
       "      <td>340000</td>\n",
       "      <td>for sale</td>\n",
       "      <td>6.0</td>\n",
       "      <td>203.0</td>\n",
       "      <td>1</td>\n",
       "      <td>NaN</td>\n",
       "      <td>0</td>\n",
       "      <td>...</td>\n",
       "      <td>NaN</td>\n",
       "      <td>95.0</td>\n",
       "      <td>NaN</td>\n",
       "      <td>2.0</td>\n",
       "      <td>0</td>\n",
       "      <td>to be done up</td>\n",
       "      <td>1901.0</td>\n",
       "      <td>Ixelles</td>\n",
       "      <td>4.381571</td>\n",
       "      <td>50.822285</td>\n",
       "    </tr>\n",
       "    <tr>\n",
       "      <th>1</th>\n",
       "      <td>1050</td>\n",
       "      <td>house</td>\n",
       "      <td>mixed use building</td>\n",
       "      <td>520000</td>\n",
       "      <td>for sale</td>\n",
       "      <td>4.0</td>\n",
       "      <td>200.0</td>\n",
       "      <td>0</td>\n",
       "      <td>NaN</td>\n",
       "      <td>0</td>\n",
       "      <td>...</td>\n",
       "      <td>NaN</td>\n",
       "      <td>69.0</td>\n",
       "      <td>NaN</td>\n",
       "      <td>2.0</td>\n",
       "      <td>0</td>\n",
       "      <td>to renovate</td>\n",
       "      <td>1940.0</td>\n",
       "      <td>Ixelles</td>\n",
       "      <td>4.381571</td>\n",
       "      <td>50.822285</td>\n",
       "    </tr>\n",
       "    <tr>\n",
       "      <th>2</th>\n",
       "      <td>1050</td>\n",
       "      <td>house</td>\n",
       "      <td>house</td>\n",
       "      <td>no price</td>\n",
       "      <td>for sale</td>\n",
       "      <td>6.0</td>\n",
       "      <td>NaN</td>\n",
       "      <td>1</td>\n",
       "      <td>NaN</td>\n",
       "      <td>0</td>\n",
       "      <td>...</td>\n",
       "      <td>NaN</td>\n",
       "      <td>0.0</td>\n",
       "      <td>NaN</td>\n",
       "      <td>NaN</td>\n",
       "      <td>0</td>\n",
       "      <td>NaN</td>\n",
       "      <td>1910.0</td>\n",
       "      <td>Ixelles</td>\n",
       "      <td>4.381571</td>\n",
       "      <td>50.822285</td>\n",
       "    </tr>\n",
       "    <tr>\n",
       "      <th>3</th>\n",
       "      <td>1050</td>\n",
       "      <td>house</td>\n",
       "      <td>house</td>\n",
       "      <td>599000</td>\n",
       "      <td>for sale</td>\n",
       "      <td>4.0</td>\n",
       "      <td>160.0</td>\n",
       "      <td>1</td>\n",
       "      <td>NaN</td>\n",
       "      <td>0</td>\n",
       "      <td>...</td>\n",
       "      <td>55.0</td>\n",
       "      <td>100.0</td>\n",
       "      <td>NaN</td>\n",
       "      <td>2.0</td>\n",
       "      <td>0</td>\n",
       "      <td>to be done up</td>\n",
       "      <td>1898.0</td>\n",
       "      <td>Ixelles</td>\n",
       "      <td>4.381571</td>\n",
       "      <td>50.822285</td>\n",
       "    </tr>\n",
       "    <tr>\n",
       "      <th>4</th>\n",
       "      <td>1050</td>\n",
       "      <td>house</td>\n",
       "      <td>house</td>\n",
       "      <td>599000</td>\n",
       "      <td>for sale</td>\n",
       "      <td>3.0</td>\n",
       "      <td>160.0</td>\n",
       "      <td>1</td>\n",
       "      <td>NaN</td>\n",
       "      <td>0</td>\n",
       "      <td>...</td>\n",
       "      <td>60.0</td>\n",
       "      <td>130.0</td>\n",
       "      <td>NaN</td>\n",
       "      <td>2.0</td>\n",
       "      <td>0</td>\n",
       "      <td>good</td>\n",
       "      <td>1953.0</td>\n",
       "      <td>Ixelles</td>\n",
       "      <td>4.381571</td>\n",
       "      <td>50.822285</td>\n",
       "    </tr>\n",
       "  </tbody>\n",
       "</table>\n",
       "<p>5 rows × 23 columns</p>\n",
       "</div>"
      ],
      "text/plain": [
       "   locality type_of_property subtype_of_property     price type_of_sale  \\\n",
       "0      1050            house               house    340000     for sale   \n",
       "1      1050            house  mixed use building    520000     for sale   \n",
       "2      1050            house               house  no price     for sale   \n",
       "3      1050            house               house    599000     for sale   \n",
       "4      1050            house               house    599000     for sale   \n",
       "\n",
       "   number_of_rooms  house_area  fully_equipped_kitchen  furnished  open_fire  \\\n",
       "0              6.0       203.0                       1        NaN          0   \n",
       "1              4.0       200.0                       0        NaN          0   \n",
       "2              6.0         NaN                       1        NaN          0   \n",
       "3              4.0       160.0                       1        NaN          0   \n",
       "4              3.0       160.0                       1        NaN          0   \n",
       "\n",
       "   ...  garden_area  surface_of_the_land  surface_of_the_plot_of_land  \\\n",
       "0  ...          NaN                 95.0                          NaN   \n",
       "1  ...          NaN                 69.0                          NaN   \n",
       "2  ...          NaN                  0.0                          NaN   \n",
       "3  ...         55.0                100.0                          NaN   \n",
       "4  ...         60.0                130.0                          NaN   \n",
       "\n",
       "   number_of_facades  swimming_pool  state_of_the_building  construction_year  \\\n",
       "0                2.0              0          to be done up             1901.0   \n",
       "1                2.0              0            to renovate             1940.0   \n",
       "2                NaN              0                    NaN             1910.0   \n",
       "3                2.0              0          to be done up             1898.0   \n",
       "4                2.0              0                   good             1953.0   \n",
       "\n",
       "   city_name lattitude  longitude  \n",
       "0    Ixelles  4.381571  50.822285  \n",
       "1    Ixelles  4.381571  50.822285  \n",
       "2    Ixelles  4.381571  50.822285  \n",
       "3    Ixelles  4.381571  50.822285  \n",
       "4    Ixelles  4.381571  50.822285  \n",
       "\n",
       "[5 rows x 23 columns]"
      ]
     },
     "execution_count": 13,
     "metadata": {},
     "output_type": "execute_result"
    }
   ],
   "source": [
    "dfinal.head(5)"
   ]
  },
  {
   "cell_type": "markdown",
   "id": "4f5dec45",
   "metadata": {
    "papermill": {
     "duration": 0.097721,
     "end_time": "2022-05-24T15:04:23.574033",
     "exception": false,
     "start_time": "2022-05-24T15:04:23.476312",
     "status": "completed"
    },
    "tags": []
   },
   "source": [
    "## - - - - - - - - - - - - - - - - - - - - - - - - - - - - - - - - - - - - - - - -"
   ]
  },
  {
   "cell_type": "markdown",
   "id": "dcc52757",
   "metadata": {
    "papermill": {
     "duration": 0.097527,
     "end_time": "2022-05-24T15:04:23.770422",
     "exception": false,
     "start_time": "2022-05-24T15:04:23.672895",
     "status": "completed"
    },
    "tags": []
   },
   "source": [
    "<a id=\"4\"></a> <br>\n",
    "# **4. Data Understanding**"
   ]
  },
  {
   "cell_type": "code",
   "execution_count": 14,
   "id": "c3b8d551",
   "metadata": {
    "execution": {
     "iopub.execute_input": "2022-05-24T15:04:24.188294Z",
     "iopub.status.busy": "2022-05-24T15:04:24.187796Z",
     "iopub.status.idle": "2022-05-24T15:04:24.207187Z",
     "shell.execute_reply": "2022-05-24T15:04:24.206534Z"
    },
    "papermill": {
     "duration": 0.124942,
     "end_time": "2022-05-24T15:04:24.210106",
     "exception": false,
     "start_time": "2022-05-24T15:04:24.085164",
     "status": "completed"
    },
    "tags": []
   },
   "outputs": [
    {
     "name": "stdout",
     "output_type": "stream",
     "text": [
      "<class 'pandas.core.frame.DataFrame'>\n",
      "RangeIndex: 52076 entries, 0 to 52075\n",
      "Data columns (total 23 columns):\n",
      " #   Column                       Non-Null Count  Dtype  \n",
      "---  ------                       --------------  -----  \n",
      " 0   locality                     52076 non-null  int64  \n",
      " 1   type_of_property             52076 non-null  object \n",
      " 2   subtype_of_property          52076 non-null  object \n",
      " 3   price                        52076 non-null  object \n",
      " 4   type_of_sale                 52076 non-null  object \n",
      " 5   number_of_rooms              52074 non-null  float64\n",
      " 6   house_area                   43444 non-null  float64\n",
      " 7   fully_equipped_kitchen       52076 non-null  int64  \n",
      " 8   furnished                    0 non-null      float64\n",
      " 9   open_fire                    52076 non-null  int64  \n",
      " 10  terrace                      52076 non-null  int64  \n",
      " 11  terrace_area                 17518 non-null  float64\n",
      " 12  garden                       52076 non-null  int64  \n",
      " 13  garden_area                  8453 non-null   float64\n",
      " 14  surface_of_the_land          29352 non-null  float64\n",
      " 15  surface_of_the_plot_of_land  0 non-null      float64\n",
      " 16  number_of_facades            38426 non-null  float64\n",
      " 17  swimming_pool                52076 non-null  int64  \n",
      " 18  state_of_the_building        38491 non-null  object \n",
      " 19  construction_year            30708 non-null  float64\n",
      " 20  city_name                    52076 non-null  object \n",
      " 21  lattitude                    52076 non-null  float64\n",
      " 22  longitude                    52076 non-null  float64\n",
      "dtypes: float64(11), int64(6), object(6)\n",
      "memory usage: 9.1+ MB\n"
     ]
    }
   ],
   "source": [
    "dfinal.info()"
   ]
  },
  {
   "cell_type": "markdown",
   "id": "25795050",
   "metadata": {},
   "source": [
    "Check number of duplicated rows in data and drop these rows"
   ]
  },
  {
   "cell_type": "code",
   "execution_count": 15,
   "id": "f5881be0",
   "metadata": {},
   "outputs": [
    {
     "data": {
      "text/plain": [
       "1235"
      ]
     },
     "execution_count": 15,
     "metadata": {},
     "output_type": "execute_result"
    }
   ],
   "source": [
    "dfinal.duplicated().sum()"
   ]
  },
  {
   "cell_type": "code",
   "execution_count": 16,
   "id": "5c48491e",
   "metadata": {},
   "outputs": [],
   "source": [
    "dfinal.drop_duplicates(inplace=True)"
   ]
  },
  {
   "cell_type": "code",
   "execution_count": 17,
   "id": "0f24feb4",
   "metadata": {},
   "outputs": [],
   "source": [
    "# rename columns name 'locality' to 'postal_code'\n",
    "\n",
    "dfinal.rename(columns={\"locality\": \"postal_code\"}, inplace=True)"
   ]
  },
  {
   "cell_type": "code",
   "execution_count": 18,
   "id": "7b9320f7",
   "metadata": {},
   "outputs": [
    {
     "data": {
      "text/plain": [
       "(50841, 20)"
      ]
     },
     "execution_count": 18,
     "metadata": {},
     "output_type": "execute_result"
    }
   ],
   "source": [
    "# Drop columns with only 1 unique value\n",
    "dfinal.drop(\n",
    "    columns=[\"type_of_sale\", \"furnished\", \"surface_of_the_plot_of_land\"], inplace=True\n",
    ")\n",
    "dfinal.shape"
   ]
  },
  {
   "cell_type": "code",
   "execution_count": 19,
   "id": "b0f22386",
   "metadata": {
    "execution": {
     "iopub.execute_input": "2022-05-24T15:04:24.615243Z",
     "iopub.status.busy": "2022-05-24T15:04:24.614700Z",
     "iopub.status.idle": "2022-05-24T15:04:24.649247Z",
     "shell.execute_reply": "2022-05-24T15:04:24.648545Z"
    },
    "papermill": {
     "duration": 0.137835,
     "end_time": "2022-05-24T15:04:24.651285",
     "exception": false,
     "start_time": "2022-05-24T15:04:24.513450",
     "status": "completed"
    },
    "tags": []
   },
   "outputs": [
    {
     "data": {
      "text/html": [
       "<div>\n",
       "<style scoped>\n",
       "    .dataframe tbody tr th:only-of-type {\n",
       "        vertical-align: middle;\n",
       "    }\n",
       "\n",
       "    .dataframe tbody tr th {\n",
       "        vertical-align: top;\n",
       "    }\n",
       "\n",
       "    .dataframe thead th {\n",
       "        text-align: right;\n",
       "    }\n",
       "</style>\n",
       "<table border=\"1\" class=\"dataframe\">\n",
       "  <thead>\n",
       "    <tr style=\"text-align: right;\">\n",
       "      <th></th>\n",
       "      <th>postal_code</th>\n",
       "      <th>number_of_rooms</th>\n",
       "      <th>house_area</th>\n",
       "      <th>fully_equipped_kitchen</th>\n",
       "      <th>open_fire</th>\n",
       "      <th>terrace</th>\n",
       "      <th>terrace_area</th>\n",
       "      <th>garden</th>\n",
       "      <th>garden_area</th>\n",
       "      <th>surface_of_the_land</th>\n",
       "      <th>number_of_facades</th>\n",
       "      <th>swimming_pool</th>\n",
       "      <th>construction_year</th>\n",
       "      <th>lattitude</th>\n",
       "      <th>longitude</th>\n",
       "    </tr>\n",
       "  </thead>\n",
       "  <tbody>\n",
       "    <tr>\n",
       "      <th>count</th>\n",
       "      <td>50841.000000</td>\n",
       "      <td>50839.000000</td>\n",
       "      <td>42411.000000</td>\n",
       "      <td>50841.000000</td>\n",
       "      <td>50841.000000</td>\n",
       "      <td>50841.000000</td>\n",
       "      <td>17096.000000</td>\n",
       "      <td>50841.000000</td>\n",
       "      <td>8350.000000</td>\n",
       "      <td>29001.000000</td>\n",
       "      <td>37735.000000</td>\n",
       "      <td>50841.000000</td>\n",
       "      <td>29883.000000</td>\n",
       "      <td>50841.000000</td>\n",
       "      <td>50841.000000</td>\n",
       "    </tr>\n",
       "    <tr>\n",
       "      <th>mean</th>\n",
       "      <td>5388.526799</td>\n",
       "      <td>2.828281</td>\n",
       "      <td>154.722855</td>\n",
       "      <td>0.654511</td>\n",
       "      <td>0.047304</td>\n",
       "      <td>0.562971</td>\n",
       "      <td>23.827737</td>\n",
       "      <td>0.291615</td>\n",
       "      <td>715.837006</td>\n",
       "      <td>999.309644</td>\n",
       "      <td>2.768120</td>\n",
       "      <td>0.015676</td>\n",
       "      <td>1983.587525</td>\n",
       "      <td>4.278681</td>\n",
       "      <td>50.849746</td>\n",
       "    </tr>\n",
       "    <tr>\n",
       "      <th>std</th>\n",
       "      <td>2958.833929</td>\n",
       "      <td>2.221271</td>\n",
       "      <td>185.139615</td>\n",
       "      <td>0.475532</td>\n",
       "      <td>0.212291</td>\n",
       "      <td>0.496024</td>\n",
       "      <td>30.320098</td>\n",
       "      <td>0.454510</td>\n",
       "      <td>4336.640576</td>\n",
       "      <td>5055.118738</td>\n",
       "      <td>0.860077</td>\n",
       "      <td>0.124221</td>\n",
       "      <td>37.456650</td>\n",
       "      <td>0.832404</td>\n",
       "      <td>0.329291</td>\n",
       "    </tr>\n",
       "    <tr>\n",
       "      <th>min</th>\n",
       "      <td>1000.000000</td>\n",
       "      <td>0.000000</td>\n",
       "      <td>1.000000</td>\n",
       "      <td>0.000000</td>\n",
       "      <td>0.000000</td>\n",
       "      <td>0.000000</td>\n",
       "      <td>1.000000</td>\n",
       "      <td>0.000000</td>\n",
       "      <td>1.000000</td>\n",
       "      <td>0.000000</td>\n",
       "      <td>1.000000</td>\n",
       "      <td>0.000000</td>\n",
       "      <td>1755.000000</td>\n",
       "      <td>2.580670</td>\n",
       "      <td>49.508502</td>\n",
       "    </tr>\n",
       "    <tr>\n",
       "      <th>25%</th>\n",
       "      <td>2600.000000</td>\n",
       "      <td>2.000000</td>\n",
       "      <td>91.000000</td>\n",
       "      <td>0.000000</td>\n",
       "      <td>0.000000</td>\n",
       "      <td>0.000000</td>\n",
       "      <td>9.000000</td>\n",
       "      <td>0.000000</td>\n",
       "      <td>70.000000</td>\n",
       "      <td>143.000000</td>\n",
       "      <td>2.000000</td>\n",
       "      <td>0.000000</td>\n",
       "      <td>1963.000000</td>\n",
       "      <td>3.678904</td>\n",
       "      <td>50.662433</td>\n",
       "    </tr>\n",
       "    <tr>\n",
       "      <th>50%</th>\n",
       "      <td>5030.000000</td>\n",
       "      <td>3.000000</td>\n",
       "      <td>130.000000</td>\n",
       "      <td>1.000000</td>\n",
       "      <td>0.000000</td>\n",
       "      <td>1.000000</td>\n",
       "      <td>16.000000</td>\n",
       "      <td>0.000000</td>\n",
       "      <td>186.000000</td>\n",
       "      <td>351.000000</td>\n",
       "      <td>3.000000</td>\n",
       "      <td>0.000000</td>\n",
       "      <td>1992.000000</td>\n",
       "      <td>4.351559</td>\n",
       "      <td>50.870452</td>\n",
       "    </tr>\n",
       "    <tr>\n",
       "      <th>75%</th>\n",
       "      <td>8420.000000</td>\n",
       "      <td>3.000000</td>\n",
       "      <td>186.000000</td>\n",
       "      <td>1.000000</td>\n",
       "      <td>0.000000</td>\n",
       "      <td>1.000000</td>\n",
       "      <td>30.000000</td>\n",
       "      <td>1.000000</td>\n",
       "      <td>540.000000</td>\n",
       "      <td>814.000000</td>\n",
       "      <td>4.000000</td>\n",
       "      <td>0.000000</td>\n",
       "      <td>2018.000000</td>\n",
       "      <td>4.835996</td>\n",
       "      <td>51.104485</td>\n",
       "    </tr>\n",
       "    <tr>\n",
       "      <th>max</th>\n",
       "      <td>9992.000000</td>\n",
       "      <td>204.000000</td>\n",
       "      <td>31700.000000</td>\n",
       "      <td>1.000000</td>\n",
       "      <td>1.000000</td>\n",
       "      <td>1.000000</td>\n",
       "      <td>1150.000000</td>\n",
       "      <td>1.000000</td>\n",
       "      <td>312600.000000</td>\n",
       "      <td>400000.000000</td>\n",
       "      <td>4.000000</td>\n",
       "      <td>1.000000</td>\n",
       "      <td>2048.000000</td>\n",
       "      <td>6.300938</td>\n",
       "      <td>51.474352</td>\n",
       "    </tr>\n",
       "  </tbody>\n",
       "</table>\n",
       "</div>"
      ],
      "text/plain": [
       "        postal_code  number_of_rooms    house_area  fully_equipped_kitchen  \\\n",
       "count  50841.000000     50839.000000  42411.000000            50841.000000   \n",
       "mean    5388.526799         2.828281    154.722855                0.654511   \n",
       "std     2958.833929         2.221271    185.139615                0.475532   \n",
       "min     1000.000000         0.000000      1.000000                0.000000   \n",
       "25%     2600.000000         2.000000     91.000000                0.000000   \n",
       "50%     5030.000000         3.000000    130.000000                1.000000   \n",
       "75%     8420.000000         3.000000    186.000000                1.000000   \n",
       "max     9992.000000       204.000000  31700.000000                1.000000   \n",
       "\n",
       "          open_fire       terrace  terrace_area        garden    garden_area  \\\n",
       "count  50841.000000  50841.000000  17096.000000  50841.000000    8350.000000   \n",
       "mean       0.047304      0.562971     23.827737      0.291615     715.837006   \n",
       "std        0.212291      0.496024     30.320098      0.454510    4336.640576   \n",
       "min        0.000000      0.000000      1.000000      0.000000       1.000000   \n",
       "25%        0.000000      0.000000      9.000000      0.000000      70.000000   \n",
       "50%        0.000000      1.000000     16.000000      0.000000     186.000000   \n",
       "75%        0.000000      1.000000     30.000000      1.000000     540.000000   \n",
       "max        1.000000      1.000000   1150.000000      1.000000  312600.000000   \n",
       "\n",
       "       surface_of_the_land  number_of_facades  swimming_pool  \\\n",
       "count         29001.000000       37735.000000   50841.000000   \n",
       "mean            999.309644           2.768120       0.015676   \n",
       "std            5055.118738           0.860077       0.124221   \n",
       "min               0.000000           1.000000       0.000000   \n",
       "25%             143.000000           2.000000       0.000000   \n",
       "50%             351.000000           3.000000       0.000000   \n",
       "75%             814.000000           4.000000       0.000000   \n",
       "max          400000.000000           4.000000       1.000000   \n",
       "\n",
       "       construction_year     lattitude     longitude  \n",
       "count       29883.000000  50841.000000  50841.000000  \n",
       "mean         1983.587525      4.278681     50.849746  \n",
       "std            37.456650      0.832404      0.329291  \n",
       "min          1755.000000      2.580670     49.508502  \n",
       "25%          1963.000000      3.678904     50.662433  \n",
       "50%          1992.000000      4.351559     50.870452  \n",
       "75%          2018.000000      4.835996     51.104485  \n",
       "max          2048.000000      6.300938     51.474352  "
      ]
     },
     "execution_count": 19,
     "metadata": {},
     "output_type": "execute_result"
    }
   ],
   "source": [
    "dfinal.describe()"
   ]
  },
  {
   "cell_type": "markdown",
   "id": "c892f3f0",
   "metadata": {},
   "source": [
    "Check misisng values in data"
   ]
  },
  {
   "cell_type": "code",
   "execution_count": 20,
   "id": "ea7606b7",
   "metadata": {},
   "outputs": [
    {
     "data": {
      "text/plain": [
       "postal_code                   0\n",
       "type_of_property              0\n",
       "subtype_of_property           0\n",
       "price                         0\n",
       "number_of_rooms               2\n",
       "house_area                 8430\n",
       "fully_equipped_kitchen        0\n",
       "open_fire                     0\n",
       "terrace                       0\n",
       "terrace_area              33745\n",
       "garden                        0\n",
       "garden_area               42491\n",
       "surface_of_the_land       21840\n",
       "number_of_facades         13106\n",
       "swimming_pool                 0\n",
       "state_of_the_building     13171\n",
       "construction_year         20958\n",
       "city_name                     0\n",
       "lattitude                     0\n",
       "longitude                     0\n",
       "dtype: int64"
      ]
     },
     "execution_count": 20,
     "metadata": {},
     "output_type": "execute_result"
    }
   ],
   "source": [
    "dfinal.isnull().sum()"
   ]
  },
  {
   "cell_type": "code",
   "execution_count": 22,
   "id": "a40edf9a",
   "metadata": {},
   "outputs": [],
   "source": [
    "def display_only_missing(df):\n",
    "    all_data_na = (df.isnull().sum() / len(df)) * 100\n",
    "    all_data_na = all_data_na.drop(all_data_na[all_data_na == 0].index).sort_values(\n",
    "        ascending=False\n",
    "    )\n",
    "    missing_data = pd.DataFrame({\"Missing Ratio\": all_data_na})\n",
    "    print(missing_data)"
   ]
  },
  {
   "cell_type": "code",
   "execution_count": 25,
   "id": "712c3b25",
   "metadata": {},
   "outputs": [
    {
     "name": "stdout",
     "output_type": "stream",
     "text": [
      "Percentage Missing Value %\n",
      "                       Missing Ratio\n",
      "garden_area                83.576248\n",
      "terrace_area               66.373596\n",
      "surface_of_the_land        42.957456\n",
      "construction_year          41.222635\n",
      "state_of_the_building      25.906257\n",
      "number_of_facades          25.778407\n",
      "house_area                 16.581106\n",
      "number_of_rooms             0.003934\n"
     ]
    }
   ],
   "source": [
    "print(\"Percentage Missing Value %\")\n",
    "display_only_missing(dfinal)"
   ]
  },
  {
   "cell_type": "code",
   "execution_count": 31,
   "id": "ada30872",
   "metadata": {},
   "outputs": [
    {
     "data": {
      "image/png": "[encoded data removed]",
      "text/plain": [
       "<Figure size 1200x800 with 1 Axes>"
      ]
     },
     "metadata": {},
     "output_type": "display_data"
    }
   ],
   "source": [
    "# Calculate the missing ratio for each attribute\n",
    "missing_ratio = (dfinal.isnull().sum() / len(dfinal)) * 100\n",
    "\n",
    "# Create a DataFrame to store the missing values information\n",
    "missing_data = pd.DataFrame(\n",
    "    {\"Attribute\": dfinal.columns, \"MissingRatio\": missing_ratio}\n",
    ")\n",
    "missing_data = missing_data[missing_data[\"MissingRatio\"] > 0].sort_values(\n",
    "    by=\"MissingRatio\", ascending=False\n",
    ")\n",
    "\n",
    "# Plot the missing values with values at the top of each bar\n",
    "plt.figure(figsize=(12, 8))\n",
    "barplot = sns.barplot(\n",
    "    x=\"Attribute\", y=\"MissingRatio\", data=missing_data, palette=\"viridis\"\n",
    ")\n",
    "\n",
    "# Add values at the top of each bar\n",
    "for index, value in enumerate(missing_data[\"MissingRatio\"]):\n",
    "    barplot.text(\n",
    "        index,\n",
    "        value + 0.2,\n",
    "        f\"{value:.2f}%\",\n",
    "        ha=\"center\",\n",
    "        va=\"bottom\",\n",
    "        fontsize=8,\n",
    "        color=\"black\",\n",
    "    )\n",
    "\n",
    "plt.title(\"Attributes with Missing Values and Their Quantity\")\n",
    "plt.xlabel(\"Attribute\")\n",
    "plt.ylabel(\"Missing Ratio (%)\")\n",
    "plt.xticks(rotation=45, ha=\"right\")  # Rotate x-axis labels for better readability\n",
    "plt.tight_layout()\n",
    "plt.show()"
   ]
  },
  {
   "cell_type": "markdown",
   "id": "47fe453a",
   "metadata": {},
   "source": [
    "We have so 51532 instances with 23 different variables to work on."
   ]
  },
  {
   "cell_type": "markdown",
   "id": "c78be3e8",
   "metadata": {},
   "source": [
    "<a id=\"4\"></a> <br>\n",
    "# **5. Data Understanding**"
   ]
  },
  {
   "cell_type": "markdown",
   "id": "ac0e3b8c",
   "metadata": {},
   "source": []
  }
 ],
 "metadata": {
  "kernelspec": {
   "display_name": "Python 3",
   "language": "python",
   "name": "python3"
  },
  "language_info": {
   "codemirror_mode": {
    "name": "ipython",
    "version": 3
   },
   "file_extension": ".py",
   "mimetype": "text/x-python",
   "name": "python",
   "nbconvert_exporter": "python",
   "pygments_lexer": "ipython3",
   "version": "3.11.5"
  },
  "papermill": {
   "default_parameters": {},
   "duration": 61.022919,
   "end_time": "2022-05-24T15:05:09.573920",
   "environment_variables": {},
   "exception": null,
   "input_path": "__notebook__.ipynb",
   "output_path": "__notebook__.ipynb",
   "parameters": {},
   "start_time": "2022-05-24T15:04:08.551001",
   "version": "2.3.4"
  }
 },
 "nbformat": 4,
 "nbformat_minor": 5
}
