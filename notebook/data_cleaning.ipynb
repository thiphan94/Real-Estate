{
 "cells": [
  {
   "cell_type": "markdown",
   "id": "e8d97241",
   "metadata": {
    "papermill": {
     "duration": 0.100345,
     "end_time": "2022-05-24T15:04:18.989645",
     "exception": false,
     "start_time": "2022-05-24T15:04:18.889300",
     "status": "completed"
    },
    "tags": []
   },
   "source": [
    "# **Real Estate Price Prediction**\n"
   ]
  },
  {
   "cell_type": "markdown",
   "id": "d19ba16c",
   "metadata": {
    "papermill": {
     "duration": 0.096294,
     "end_time": "2022-05-24T15:04:19.184189",
     "exception": false,
     "start_time": "2022-05-24T15:04:19.087895",
     "status": "completed"
    },
    "tags": []
   },
   "source": [
    "# **Table of Contents**\n",
    "* [1.Introduction](#1)\n",
    "* [2.Import Libraries](#2)\n",
    "* [3.Load and Split Data](#3)\n",
    "* [4.Data Understanding](#4)\n",
    "* [5.Data Preparation](#5)\n",
    "  * [Handling the missing values](#6)\n",
    "  * [Convert type of attributes](#7)\n",
    "  * [Preprocessing Data](#8)\n"
   ]
  },
  {
   "cell_type": "markdown",
   "id": "2d63cb07",
   "metadata": {
    "papermill": {
     "duration": 0.097311,
     "end_time": "2022-05-24T15:04:19.379685",
     "exception": false,
     "start_time": "2022-05-24T15:04:19.282374",
     "status": "completed"
    },
    "tags": []
   },
   "source": [
    "## - - - - - - - - - - - - - - - - - - - - - - - - - - - - - - - - - - - - - - - -"
   ]
  },
  {
   "cell_type": "markdown",
   "id": "88e6730e",
   "metadata": {
    "papermill": {
     "duration": 0.095867,
     "end_time": "2022-05-24T15:04:19.571713",
     "exception": false,
     "start_time": "2022-05-24T15:04:19.475846",
     "status": "completed"
    },
    "tags": []
   },
   "source": [
    "<a id=\"1\"></a> <br>\n",
    "# **1. Introduction**"
   ]
  },
  {
   "cell_type": "markdown",
   "id": "5dfa7947",
   "metadata": {
    "papermill": {
     "duration": 0.095459,
     "end_time": "2022-05-24T15:04:19.763221",
     "exception": false,
     "start_time": "2022-05-24T15:04:19.667762",
     "status": "completed"
    },
    "tags": []
   },
   "source": [
    "The dataset we'll be analyzing is the dataset which is scrapped from Immoweb.be in Belgium. It shows the information of each house and appartement to sale. This dataset has 52.077 rows and 20 columns.\n",
    "\n",
    "#### **Attributes:**\n",
    "The metadata of the columns:\n",
    "\n",
    "* \"locality\" - postal code of the house/appartement\n",
    "* \"type_of_property\" - the count of a new bike shares\n",
    "* \"subtype_of_property\" - real temperature in C\n",
    "* \"price\" - temperature in C \"feels like\"\n",
    "* \"type_of_sale\" - humidity in percentage\n",
    "* \"number_of_rooms\" - wind speed in km/h\n",
    "* \"house_area\" - category of the weather\n",
    "* \"fully_equipped_kitchen\" - boolean field - 1 holiday / 0 non holiday\n",
    "* \"open_fire\" - boolean field - 1 if the day is weekend\n",
    "* \"terrace\" - category field meteorological seasons: 0-spring ; 1-summer; 2-fall; 3-winter.\n",
    "* \"terrace_area\" - category\n",
    "* \"garden\" - category\n",
    "* \"garden_area\" - category\n",
    "* \"surface_of_the_land\" - category\n",
    "* \"surface_of_the_plot_of_land\" - category\n",
    "* \"number_of_facades\" - category\n",
    "* \"swimming_pool\" - category\n",
    "* \"state_of_the_building\" - category\n",
    "* \"construction_year\" - category\n",
    "\n",
    "But in this dataset, we don't have the information related longitude and lattitude of each city. So we use also the [zipcode data of Belgium](https://github.com/jief/zipcode-belgium/blob/master/zipcode-belgium.csv). "
   ]
  },
  {
   "cell_type": "markdown",
   "id": "48fdb944",
   "metadata": {
    "papermill": {
     "duration": 0.095502,
     "end_time": "2022-05-24T15:04:19.955232",
     "exception": false,
     "start_time": "2022-05-24T15:04:19.859730",
     "status": "completed"
    },
    "tags": []
   },
   "source": [
    "## - - - - - - - - - - - - - - - - - - - - - - - - - - - - - - - - - - - - - - - -"
   ]
  },
  {
   "cell_type": "markdown",
   "id": "73c19f2f",
   "metadata": {
    "papermill": {
     "duration": 0.09578,
     "end_time": "2022-05-24T15:04:20.150888",
     "exception": false,
     "start_time": "2022-05-24T15:04:20.055108",
     "status": "completed"
    },
    "tags": []
   },
   "source": [
    "<a id=\"2\"></a> <br>\n",
    "# **2. Imports**"
   ]
  },
  {
   "cell_type": "code",
   "execution_count": null,
   "id": "cc2a5fc4",
   "metadata": {
    "_cell_guid": "b1076dfc-b9ad-4769-8c92-a6c4dae69d19",
    "_uuid": "8f2839f25d086af736a60e9eeb907d3b93b6e0e5",
    "execution": {
     "iopub.execute_input": "2022-05-24T15:04:20.350873Z",
     "iopub.status.busy": "2022-05-24T15:04:20.350352Z",
     "iopub.status.idle": "2022-05-24T15:04:22.106882Z",
     "shell.execute_reply": "2022-05-24T15:04:22.105708Z"
    },
    "papermill": {
     "duration": 1.861915,
     "end_time": "2022-05-24T15:04:22.109821",
     "exception": false,
     "start_time": "2022-05-24T15:04:20.247906",
     "status": "completed"
    },
    "tags": []
   },
   "outputs": [],
   "source": [
    "# Load data libraries\n",
    "import numpy as np  # linear algebra\n",
    "import pandas as pd  # data processing, CSV file I/O\n",
    "from sklearn.model_selection import train_test_split\n",
    "\n",
    "# For visualizations\n",
    "import matplotlib.pyplot as plt\n",
    "import seaborn as sns\n",
    "\n",
    "%matplotlib inline\n",
    "\n",
    "# Data preparation\n",
    "from sklearn.preprocessing import RobustScaler, StandardScaler\n",
    "from datetime import datetime\n",
    "import math"
   ]
  },
  {
   "cell_type": "markdown",
   "id": "2e743571",
   "metadata": {
    "papermill": {
     "duration": 0.097632,
     "end_time": "2022-05-24T15:04:22.304925",
     "exception": false,
     "start_time": "2022-05-24T15:04:22.207293",
     "status": "completed"
    },
    "tags": []
   },
   "source": [
    "## - - - - - - - - - - - - - - - - - - - - - - - - - - - - - - - - - - - - - - - -"
   ]
  },
  {
   "cell_type": "markdown",
   "id": "cae35d50",
   "metadata": {
    "papermill": {
     "duration": 0.095993,
     "end_time": "2022-05-24T15:04:22.498157",
     "exception": false,
     "start_time": "2022-05-24T15:04:22.402164",
     "status": "completed"
    },
    "tags": []
   },
   "source": [
    "<a id=\"3\"></a> <br>\n",
    "# **3. Load and Split the Data**"
   ]
  },
  {
   "cell_type": "code",
   "execution_count": null,
   "id": "d3cbc7f7",
   "metadata": {
    "execution": {
     "iopub.execute_input": "2022-05-24T15:04:22.693674Z",
     "iopub.status.busy": "2022-05-24T15:04:22.693362Z",
     "iopub.status.idle": "2022-05-24T15:04:22.737443Z",
     "shell.execute_reply": "2022-05-24T15:04:22.736852Z"
    },
    "papermill": {
     "duration": 0.144047,
     "end_time": "2022-05-24T15:04:22.739648",
     "exception": false,
     "start_time": "2022-05-24T15:04:22.595601",
     "status": "completed"
    },
    "tags": []
   },
   "outputs": [],
   "source": [
    "# First, let's load the data\n",
    "df = pd.read_csv(\"../data/dataset_house_apartment.csv\")\n",
    "\n",
    "df.head()"
   ]
  },
  {
   "cell_type": "code",
   "execution_count": null,
   "id": "365ad163",
   "metadata": {},
   "outputs": [],
   "source": [
    "df.shape"
   ]
  },
  {
   "cell_type": "code",
   "execution_count": null,
   "id": "534ae8b0",
   "metadata": {},
   "outputs": [],
   "source": [
    "# Load zipcode data of Belgium\n",
    "zipcode = pd.read_csv(\"../data/code-postaux-belge.csv\", sep=\";\")"
   ]
  },
  {
   "cell_type": "code",
   "execution_count": null,
   "id": "334ab4d5",
   "metadata": {},
   "outputs": [],
   "source": [
    "zipcode.head()"
   ]
  },
  {
   "cell_type": "code",
   "execution_count": null,
   "id": "36055f92",
   "metadata": {},
   "outputs": [],
   "source": [
    "# Drop empty columns\n",
    "zipcode.drop(columns=[\"coordonnees\", \"geom\"], inplace=True)\n",
    "\n",
    "# Rename the columns\n",
    "zipcode.rename(\n",
    "    columns={\n",
    "        \"column_1\": \"locality\",\n",
    "        \"column_2\": \"city_name\",\n",
    "        \"column_3\": \"lattitude\",\n",
    "        \"column_4\": \"longitude\",\n",
    "    },\n",
    "    inplace=True,\n",
    ")\n",
    "\n",
    "# Drop the localities' duplicates\n",
    "zipcode.drop_duplicates(subset=[\"locality\"], inplace=True)"
   ]
  },
  {
   "cell_type": "code",
   "execution_count": null,
   "id": "58936e06",
   "metadata": {},
   "outputs": [],
   "source": [
    "zipcode.shape"
   ]
  },
  {
   "cell_type": "markdown",
   "id": "b8ae4556",
   "metadata": {},
   "source": [
    "Merge real estate data and zipcode data"
   ]
  },
  {
   "cell_type": "code",
   "execution_count": null,
   "id": "e110da98",
   "metadata": {},
   "outputs": [],
   "source": [
    "dfinal = pd.merge(df, zipcode, on=[\"locality\"], how=\"inner\")"
   ]
  },
  {
   "cell_type": "code",
   "execution_count": null,
   "id": "3e32f618",
   "metadata": {},
   "outputs": [],
   "source": [
    "dfinal.shape"
   ]
  },
  {
   "cell_type": "code",
   "execution_count": null,
   "id": "f79dd172",
   "metadata": {},
   "outputs": [],
   "source": [
    "dfinal.head(5)"
   ]
  },
  {
   "cell_type": "markdown",
   "id": "4f5dec45",
   "metadata": {
    "papermill": {
     "duration": 0.097721,
     "end_time": "2022-05-24T15:04:23.574033",
     "exception": false,
     "start_time": "2022-05-24T15:04:23.476312",
     "status": "completed"
    },
    "tags": []
   },
   "source": [
    "## - - - - - - - - - - - - - - - - - - - - - - - - - - - - - - - - - - - - - - - -"
   ]
  },
  {
   "cell_type": "markdown",
   "id": "dcc52757",
   "metadata": {
    "papermill": {
     "duration": 0.097527,
     "end_time": "2022-05-24T15:04:23.770422",
     "exception": false,
     "start_time": "2022-05-24T15:04:23.672895",
     "status": "completed"
    },
    "tags": []
   },
   "source": [
    "<a id=\"4\"></a> <br>\n",
    "# **4. Data Understanding**"
   ]
  },
  {
   "cell_type": "code",
   "execution_count": null,
   "id": "c3b8d551",
   "metadata": {
    "execution": {
     "iopub.execute_input": "2022-05-24T15:04:24.188294Z",
     "iopub.status.busy": "2022-05-24T15:04:24.187796Z",
     "iopub.status.idle": "2022-05-24T15:04:24.207187Z",
     "shell.execute_reply": "2022-05-24T15:04:24.206534Z"
    },
    "papermill": {
     "duration": 0.124942,
     "end_time": "2022-05-24T15:04:24.210106",
     "exception": false,
     "start_time": "2022-05-24T15:04:24.085164",
     "status": "completed"
    },
    "tags": []
   },
   "outputs": [],
   "source": [
    "dfinal.info()"
   ]
  },
  {
   "cell_type": "markdown",
   "id": "25795050",
   "metadata": {},
   "source": [
    "Check number of duplicated rows in data and drop these rows"
   ]
  },
  {
   "cell_type": "code",
   "execution_count": null,
   "id": "f5881be0",
   "metadata": {},
   "outputs": [],
   "source": [
    "dfinal.duplicated().sum()"
   ]
  },
  {
   "cell_type": "code",
   "execution_count": null,
   "id": "5c48491e",
   "metadata": {},
   "outputs": [],
   "source": [
    "dfinal.drop_duplicates(inplace=True)"
   ]
  },
  {
   "cell_type": "code",
   "execution_count": null,
   "id": "0f24feb4",
   "metadata": {},
   "outputs": [],
   "source": [
    "# rename columns name 'locality' to 'postal_code'\n",
    "\n",
    "dfinal.rename(columns={\"locality\": \"postal_code\"}, inplace=True)"
   ]
  },
  {
   "cell_type": "code",
   "execution_count": null,
   "id": "7b9320f7",
   "metadata": {},
   "outputs": [],
   "source": [
    "# Drop columns with only 1 unique value\n",
    "dfinal.drop(\n",
    "    columns=[\"type_of_sale\", \"furnished\", \"surface_of_the_plot_of_land\"], inplace=True\n",
    ")\n",
    "dfinal.shape"
   ]
  },
  {
   "cell_type": "code",
   "execution_count": null,
   "id": "b0f22386",
   "metadata": {
    "execution": {
     "iopub.execute_input": "2022-05-24T15:04:24.615243Z",
     "iopub.status.busy": "2022-05-24T15:04:24.614700Z",
     "iopub.status.idle": "2022-05-24T15:04:24.649247Z",
     "shell.execute_reply": "2022-05-24T15:04:24.648545Z"
    },
    "papermill": {
     "duration": 0.137835,
     "end_time": "2022-05-24T15:04:24.651285",
     "exception": false,
     "start_time": "2022-05-24T15:04:24.513450",
     "status": "completed"
    },
    "tags": []
   },
   "outputs": [],
   "source": [
    "dfinal.describe()"
   ]
  },
  {
   "cell_type": "markdown",
   "id": "c892f3f0",
   "metadata": {},
   "source": [
    "Check misisng values in data"
   ]
  },
  {
   "cell_type": "code",
   "execution_count": null,
   "id": "ea7606b7",
   "metadata": {},
   "outputs": [],
   "source": [
    "dfinal.isnull().sum()"
   ]
  },
  {
   "cell_type": "code",
   "execution_count": null,
   "id": "a40edf9a",
   "metadata": {},
   "outputs": [],
   "source": [
    "def display_only_missing(df):\n",
    "    all_data_na = (df.isnull().sum() / len(df)) * 100\n",
    "    all_data_na = all_data_na.drop(all_data_na[all_data_na == 0].index).sort_values(\n",
    "        ascending=False\n",
    "    )\n",
    "    missing_data = pd.DataFrame({\"Missing Ratio\": all_data_na})\n",
    "    print(missing_data)"
   ]
  },
  {
   "cell_type": "code",
   "execution_count": null,
   "id": "712c3b25",
   "metadata": {},
   "outputs": [],
   "source": [
    "print(\"Percentage Missing Value %\")\n",
    "display_only_missing(dfinal)"
   ]
  },
  {
   "cell_type": "code",
   "execution_count": null,
   "id": "ada30872",
   "metadata": {},
   "outputs": [],
   "source": [
    "# Calculate the missing ratio for each attribute\n",
    "missing_ratio = (dfinal.isnull().sum() / len(dfinal)) * 100\n",
    "\n",
    "# Create a DataFrame to store the missing values information\n",
    "missing_data = pd.DataFrame(\n",
    "    {\"Attribute\": dfinal.columns, \"MissingRatio\": missing_ratio}\n",
    ")\n",
    "missing_data = missing_data[missing_data[\"MissingRatio\"] > 0].sort_values(\n",
    "    by=\"MissingRatio\", ascending=False\n",
    ")\n",
    "\n",
    "# Plot the missing values with values at the top of each bar\n",
    "plt.figure(figsize=(12, 8))\n",
    "barplot = sns.barplot(\n",
    "    x=\"Attribute\", y=\"MissingRatio\", data=missing_data, palette=\"viridis\"\n",
    ")\n",
    "\n",
    "# Add values at the top of each bar\n",
    "for index, value in enumerate(missing_data[\"MissingRatio\"]):\n",
    "    barplot.text(\n",
    "        index,\n",
    "        value + 0.2,\n",
    "        f\"{value:.2f}%\",\n",
    "        ha=\"center\",\n",
    "        va=\"bottom\",\n",
    "        fontsize=8,\n",
    "        color=\"black\",\n",
    "    )\n",
    "\n",
    "plt.title(\"Attributes with Missing Values and Their Quantity\")\n",
    "plt.xlabel(\"Attribute\")\n",
    "plt.ylabel(\"Missing Ratio (%)\")\n",
    "plt.xticks(rotation=45, ha=\"right\")  # Rotate x-axis labels for better readability\n",
    "plt.tight_layout()\n",
    "plt.show()"
   ]
  },
  {
   "cell_type": "markdown",
   "id": "c78be3e8",
   "metadata": {},
   "source": [
    "<a id=\"5\"></a> <br>\n",
    "# **5. Data Understanding**"
   ]
  },
  {
   "cell_type": "markdown",
   "id": "24b3dc8c",
   "metadata": {},
   "source": [
    "<a id=\"6\"></a> \n",
    "### **Handling the missing values**"
   ]
  },
  {
   "cell_type": "markdown",
   "id": "45ad7321",
   "metadata": {},
   "source": [
    "We will drop the attributes with too many null values. Namely, \"garden_area\", \"terrace_area\"."
   ]
  },
  {
   "cell_type": "code",
   "execution_count": null,
   "id": "19c91681",
   "metadata": {},
   "outputs": [],
   "source": [
    "dfinal.drop(columns=[\"garden_area\", \"terrace_area\", \"construction_year\"], inplace=True)\n",
    "dfinal.shape"
   ]
  },
  {
   "cell_type": "markdown",
   "id": "48d137ed",
   "metadata": {},
   "source": [
    "Imputing missing values of the \"surface_of_the_land\" attribute by replacing \"None\" values by 0."
   ]
  },
  {
   "cell_type": "code",
   "execution_count": null,
   "id": "565ea0ae",
   "metadata": {},
   "outputs": [],
   "source": [
    "dfinal[\"surface_of_the_land\"] = (\n",
    "    dfinal[\"surface_of_the_land\"].replace({\"None\": 0}).astype(int)\n",
    ")\n",
    "\n",
    "dfinal.surface_of_the_land.value_counts()"
   ]
  },
  {
   "cell_type": "markdown",
   "id": "fe385814",
   "metadata": {},
   "source": [
    "With \"state_of_the_building\" attribute, we replace \"None\" values by \"unknown\"."
   ]
  },
  {
   "cell_type": "code",
   "execution_count": null,
   "id": "999e2b72",
   "metadata": {},
   "outputs": [],
   "source": [
    "dfinal[\"state_of_the_building\"] = dfinal[\"state_of_the_building\"].replace(\n",
    "    {\"None\": \"unknown\"}\n",
    ")\n",
    "dfinal.state_of_the_building.value_counts()"
   ]
  },
  {
   "cell_type": "markdown",
   "id": "cd29a3b5",
   "metadata": {},
   "source": [
    "For \"number_of_facades\" attribute, we replace the \"None\" values by 0."
   ]
  },
  {
   "cell_type": "code",
   "execution_count": null,
   "id": "57e9f791",
   "metadata": {},
   "outputs": [],
   "source": [
    "dfinal[\"number_of_facades\"] = (\n",
    "    dfinal[\"number_of_facades\"].replace({\"None\": 0}).astype(int)\n",
    ")\n",
    "dfinal.number_of_facades.value_counts()"
   ]
  },
  {
   "cell_type": "markdown",
   "id": "9f906b82",
   "metadata": {},
   "source": [
    "For \"house_area\" attribute and \"number_of_rooms\" attribute, we choose to drop the rows with missing values."
   ]
  },
  {
   "cell_type": "code",
   "execution_count": null,
   "id": "f4ed3022",
   "metadata": {},
   "outputs": [],
   "source": [
    "dfinal = dfinal[(dfinal[\"house_area\"] != \"None\")]\n",
    "dfinal.house_area.value_counts()"
   ]
  },
  {
   "cell_type": "code",
   "execution_count": null,
   "id": "2b0c82a6",
   "metadata": {},
   "outputs": [],
   "source": [
    "dfinal = dfinal[(dfinal[\"number_of_rooms\"] != \"None\")]\n",
    "dfinal.number_of_rooms.value_counts()"
   ]
  },
  {
   "cell_type": "markdown",
   "id": "d9c20294",
   "metadata": {},
   "source": [
    "The \"price\" attribute contains rows with the value \"no price\" and we calculate the number of theses rows and remove the."
   ]
  },
  {
   "cell_type": "code",
   "execution_count": null,
   "id": "b1b1777b",
   "metadata": {},
   "outputs": [],
   "source": [
    "num_rows_with_no_price = (dfinal[\"price\"] == \"no price\").sum()\n",
    "\n",
    "print(f\"Number of rows with 'no price': {num_rows_with_no_price}\")\n",
    "\n",
    "dfinal = dfinal[dfinal[\"price\"] != \"no price\"]"
   ]
  },
  {
   "cell_type": "markdown",
   "id": "6144978f",
   "metadata": {},
   "source": [
    "<a id=\"7\"></a> \n",
    "### **Convert type of attributes**"
   ]
  },
  {
   "cell_type": "markdown",
   "id": "c5205230",
   "metadata": {},
   "source": [
    "For \"type_of_property\" attribute, we have a categorical variable like type_of_property with two categories (in this case, \"house\" and \"apartment\"), we can convert it to a numeric column by using binary encoding."
   ]
  },
  {
   "cell_type": "code",
   "execution_count": null,
   "id": "8fb53301",
   "metadata": {},
   "outputs": [],
   "source": [
    "dfinal[\"type_of_property\"] = dfinal[\"type_of_property\"].replace(\n",
    "    {\"house\": 0, \"apartment\": 1}\n",
    ")"
   ]
  },
  {
   "cell_type": "markdown",
   "id": "2cf41516",
   "metadata": {},
   "source": [
    "Convert the data type of the \"price\", \"number_of_rooms\" and \"house_area\" attributes from object to integer."
   ]
  },
  {
   "cell_type": "code",
   "execution_count": null,
   "id": "3d7ece28",
   "metadata": {},
   "outputs": [],
   "source": [
    "dfinal[\"price\"] = dfinal[\"price\"].astype(int)\n",
    "dfinal[\"number_of_rooms\"] = dfinal[\"number_of_rooms\"].astype(int)\n",
    "dfinal[\"house_area\"] = dfinal[\"house_area\"].astype(int)"
   ]
  },
  {
   "cell_type": "markdown",
   "id": "47fe453a",
   "metadata": {},
   "source": [
    "We have so 51532 instances with 23 different variables to work on."
   ]
  }
 ],
 "metadata": {
  "kernelspec": {
   "display_name": "Python 3",
   "language": "python",
   "name": "python3"
  },
  "language_info": {
   "codemirror_mode": {
    "name": "ipython",
    "version": 3
   },
   "file_extension": ".py",
   "mimetype": "text/x-python",
   "name": "python",
   "nbconvert_exporter": "python",
   "pygments_lexer": "ipython3",
   "version": "3.11.5"
  },
  "papermill": {
   "default_parameters": {},
   "duration": 61.022919,
   "end_time": "2022-05-24T15:05:09.573920",
   "environment_variables": {},
   "exception": null,
   "input_path": "__notebook__.ipynb",
   "output_path": "__notebook__.ipynb",
   "parameters": {},
   "start_time": "2022-05-24T15:04:08.551001",
   "version": "2.3.4"
  }
 },
 "nbformat": 4,
 "nbformat_minor": 5
}
